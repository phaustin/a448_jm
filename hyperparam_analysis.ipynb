{
 "cells": [
  {
   "cell_type": "markdown",
   "metadata": {},
   "source": [
    "# Make the parallel coordinate plots and find the best model configuration"
   ]
  },
  {
   "cell_type": "code",
   "execution_count": 9,
   "metadata": {},
   "outputs": [],
   "source": [
    "import plotly.express as px\n",
    "import pandas as pd\n",
    "import numpy as np\n",
    "import matplotlib.pyplot as plt\n",
    "import matplotlib as mpl"
   ]
  },
  {
   "cell_type": "code",
   "execution_count": 2,
   "metadata": {},
   "outputs": [],
   "source": [
    "ds = pd.read_csv(\"./tunedU.csv\")"
   ]
  },
  {
   "cell_type": "code",
   "execution_count": 3,
   "metadata": {},
   "outputs": [
    {
     "data": {
      "text/html": [
       "<div>\n",
       "<style scoped>\n",
       "    .dataframe tbody tr th:only-of-type {\n",
       "        vertical-align: middle;\n",
       "    }\n",
       "\n",
       "    .dataframe tbody tr th {\n",
       "        vertical-align: top;\n",
       "    }\n",
       "\n",
       "    .dataframe thead th {\n",
       "        text-align: right;\n",
       "    }\n",
       "</style>\n",
       "<table border=\"1\" class=\"dataframe\">\n",
       "  <thead>\n",
       "    <tr style=\"text-align: right;\">\n",
       "      <th></th>\n",
       "      <th>max_samples</th>\n",
       "      <th>n_estimators</th>\n",
       "      <th>max_depth</th>\n",
       "      <th>criterion</th>\n",
       "      <th>verbose</th>\n",
       "      <th>LL_RF_up</th>\n",
       "    </tr>\n",
       "  </thead>\n",
       "  <tbody>\n",
       "    <tr>\n",
       "      <th>0</th>\n",
       "      <td>6205483</td>\n",
       "      <td>1</td>\n",
       "      <td>12.0</td>\n",
       "      <td>gini</td>\n",
       "      <td>9</td>\n",
       "      <td>0.096623</td>\n",
       "    </tr>\n",
       "    <tr>\n",
       "      <th>1</th>\n",
       "      <td>6205483</td>\n",
       "      <td>1</td>\n",
       "      <td>12.0</td>\n",
       "      <td>entropy</td>\n",
       "      <td>9</td>\n",
       "      <td>0.096644</td>\n",
       "    </tr>\n",
       "    <tr>\n",
       "      <th>2</th>\n",
       "      <td>6205483</td>\n",
       "      <td>1</td>\n",
       "      <td>12.0</td>\n",
       "      <td>log_loss</td>\n",
       "      <td>9</td>\n",
       "      <td>0.095180</td>\n",
       "    </tr>\n",
       "    <tr>\n",
       "      <th>3</th>\n",
       "      <td>6205483</td>\n",
       "      <td>1</td>\n",
       "      <td>50.0</td>\n",
       "      <td>gini</td>\n",
       "      <td>9</td>\n",
       "      <td>0.975630</td>\n",
       "    </tr>\n",
       "    <tr>\n",
       "      <th>4</th>\n",
       "      <td>6205483</td>\n",
       "      <td>1</td>\n",
       "      <td>50.0</td>\n",
       "      <td>entropy</td>\n",
       "      <td>9</td>\n",
       "      <td>0.948917</td>\n",
       "    </tr>\n",
       "    <tr>\n",
       "      <th>5</th>\n",
       "      <td>6205483</td>\n",
       "      <td>1</td>\n",
       "      <td>50.0</td>\n",
       "      <td>log_loss</td>\n",
       "      <td>9</td>\n",
       "      <td>0.944667</td>\n",
       "    </tr>\n",
       "    <tr>\n",
       "      <th>6</th>\n",
       "      <td>6205483</td>\n",
       "      <td>1</td>\n",
       "      <td>NaN</td>\n",
       "      <td>gini</td>\n",
       "      <td>9</td>\n",
       "      <td>0.964633</td>\n",
       "    </tr>\n",
       "    <tr>\n",
       "      <th>7</th>\n",
       "      <td>6205483</td>\n",
       "      <td>1</td>\n",
       "      <td>NaN</td>\n",
       "      <td>entropy</td>\n",
       "      <td>9</td>\n",
       "      <td>0.946061</td>\n",
       "    </tr>\n",
       "    <tr>\n",
       "      <th>8</th>\n",
       "      <td>6205483</td>\n",
       "      <td>1</td>\n",
       "      <td>NaN</td>\n",
       "      <td>log_loss</td>\n",
       "      <td>9</td>\n",
       "      <td>0.954111</td>\n",
       "    </tr>\n",
       "    <tr>\n",
       "      <th>9</th>\n",
       "      <td>6205483</td>\n",
       "      <td>30</td>\n",
       "      <td>12.0</td>\n",
       "      <td>gini</td>\n",
       "      <td>9</td>\n",
       "      <td>0.087002</td>\n",
       "    </tr>\n",
       "    <tr>\n",
       "      <th>10</th>\n",
       "      <td>6205483</td>\n",
       "      <td>30</td>\n",
       "      <td>12.0</td>\n",
       "      <td>entropy</td>\n",
       "      <td>9</td>\n",
       "      <td>0.087440</td>\n",
       "    </tr>\n",
       "    <tr>\n",
       "      <th>11</th>\n",
       "      <td>6205483</td>\n",
       "      <td>30</td>\n",
       "      <td>12.0</td>\n",
       "      <td>log_loss</td>\n",
       "      <td>9</td>\n",
       "      <td>0.087730</td>\n",
       "    </tr>\n",
       "    <tr>\n",
       "      <th>12</th>\n",
       "      <td>6205483</td>\n",
       "      <td>30</td>\n",
       "      <td>50.0</td>\n",
       "      <td>gini</td>\n",
       "      <td>9</td>\n",
       "      <td>0.041004</td>\n",
       "    </tr>\n",
       "    <tr>\n",
       "      <th>13</th>\n",
       "      <td>6205483</td>\n",
       "      <td>30</td>\n",
       "      <td>50.0</td>\n",
       "      <td>entropy</td>\n",
       "      <td>9</td>\n",
       "      <td>0.040899</td>\n",
       "    </tr>\n",
       "    <tr>\n",
       "      <th>14</th>\n",
       "      <td>6205483</td>\n",
       "      <td>30</td>\n",
       "      <td>50.0</td>\n",
       "      <td>log_loss</td>\n",
       "      <td>9</td>\n",
       "      <td>0.040974</td>\n",
       "    </tr>\n",
       "    <tr>\n",
       "      <th>15</th>\n",
       "      <td>6205483</td>\n",
       "      <td>30</td>\n",
       "      <td>NaN</td>\n",
       "      <td>gini</td>\n",
       "      <td>9</td>\n",
       "      <td>0.041300</td>\n",
       "    </tr>\n",
       "    <tr>\n",
       "      <th>16</th>\n",
       "      <td>6205483</td>\n",
       "      <td>30</td>\n",
       "      <td>NaN</td>\n",
       "      <td>entropy</td>\n",
       "      <td>9</td>\n",
       "      <td>0.040941</td>\n",
       "    </tr>\n",
       "    <tr>\n",
       "      <th>17</th>\n",
       "      <td>6205483</td>\n",
       "      <td>30</td>\n",
       "      <td>NaN</td>\n",
       "      <td>log_loss</td>\n",
       "      <td>9</td>\n",
       "      <td>0.041086</td>\n",
       "    </tr>\n",
       "    <tr>\n",
       "      <th>18</th>\n",
       "      <td>6205483</td>\n",
       "      <td>60</td>\n",
       "      <td>12.0</td>\n",
       "      <td>gini</td>\n",
       "      <td>9</td>\n",
       "      <td>0.086854</td>\n",
       "    </tr>\n",
       "    <tr>\n",
       "      <th>19</th>\n",
       "      <td>6205483</td>\n",
       "      <td>60</td>\n",
       "      <td>12.0</td>\n",
       "      <td>entropy</td>\n",
       "      <td>9</td>\n",
       "      <td>0.087448</td>\n",
       "    </tr>\n",
       "    <tr>\n",
       "      <th>20</th>\n",
       "      <td>6205483</td>\n",
       "      <td>60</td>\n",
       "      <td>12.0</td>\n",
       "      <td>log_loss</td>\n",
       "      <td>9</td>\n",
       "      <td>0.087637</td>\n",
       "    </tr>\n",
       "    <tr>\n",
       "      <th>21</th>\n",
       "      <td>6205483</td>\n",
       "      <td>60</td>\n",
       "      <td>50.0</td>\n",
       "      <td>gini</td>\n",
       "      <td>9</td>\n",
       "      <td>0.039333</td>\n",
       "    </tr>\n",
       "    <tr>\n",
       "      <th>22</th>\n",
       "      <td>6205483</td>\n",
       "      <td>60</td>\n",
       "      <td>50.0</td>\n",
       "      <td>entropy</td>\n",
       "      <td>9</td>\n",
       "      <td>0.039236</td>\n",
       "    </tr>\n",
       "    <tr>\n",
       "      <th>23</th>\n",
       "      <td>6205483</td>\n",
       "      <td>60</td>\n",
       "      <td>50.0</td>\n",
       "      <td>log_loss</td>\n",
       "      <td>9</td>\n",
       "      <td>0.039216</td>\n",
       "    </tr>\n",
       "    <tr>\n",
       "      <th>24</th>\n",
       "      <td>6205483</td>\n",
       "      <td>60</td>\n",
       "      <td>NaN</td>\n",
       "      <td>gini</td>\n",
       "      <td>9</td>\n",
       "      <td>0.039431</td>\n",
       "    </tr>\n",
       "    <tr>\n",
       "      <th>25</th>\n",
       "      <td>6205483</td>\n",
       "      <td>60</td>\n",
       "      <td>NaN</td>\n",
       "      <td>entropy</td>\n",
       "      <td>9</td>\n",
       "      <td>0.039248</td>\n",
       "    </tr>\n",
       "    <tr>\n",
       "      <th>26</th>\n",
       "      <td>6205483</td>\n",
       "      <td>60</td>\n",
       "      <td>NaN</td>\n",
       "      <td>log_loss</td>\n",
       "      <td>9</td>\n",
       "      <td>0.039190</td>\n",
       "    </tr>\n",
       "    <tr>\n",
       "      <th>27</th>\n",
       "      <td>6205483</td>\n",
       "      <td>100</td>\n",
       "      <td>12.0</td>\n",
       "      <td>gini</td>\n",
       "      <td>9</td>\n",
       "      <td>0.086947</td>\n",
       "    </tr>\n",
       "    <tr>\n",
       "      <th>28</th>\n",
       "      <td>6205483</td>\n",
       "      <td>100</td>\n",
       "      <td>12.0</td>\n",
       "      <td>entropy</td>\n",
       "      <td>9</td>\n",
       "      <td>0.087421</td>\n",
       "    </tr>\n",
       "    <tr>\n",
       "      <th>29</th>\n",
       "      <td>6205483</td>\n",
       "      <td>100</td>\n",
       "      <td>12.0</td>\n",
       "      <td>log_loss</td>\n",
       "      <td>9</td>\n",
       "      <td>0.087466</td>\n",
       "    </tr>\n",
       "    <tr>\n",
       "      <th>30</th>\n",
       "      <td>6205483</td>\n",
       "      <td>100</td>\n",
       "      <td>50.0</td>\n",
       "      <td>gini</td>\n",
       "      <td>9</td>\n",
       "      <td>0.039043</td>\n",
       "    </tr>\n",
       "    <tr>\n",
       "      <th>31</th>\n",
       "      <td>6205483</td>\n",
       "      <td>100</td>\n",
       "      <td>50.0</td>\n",
       "      <td>entropy</td>\n",
       "      <td>9</td>\n",
       "      <td>0.038850</td>\n",
       "    </tr>\n",
       "    <tr>\n",
       "      <th>32</th>\n",
       "      <td>6205483</td>\n",
       "      <td>100</td>\n",
       "      <td>50.0</td>\n",
       "      <td>log_loss</td>\n",
       "      <td>9</td>\n",
       "      <td>0.038832</td>\n",
       "    </tr>\n",
       "    <tr>\n",
       "      <th>33</th>\n",
       "      <td>6205483</td>\n",
       "      <td>100</td>\n",
       "      <td>NaN</td>\n",
       "      <td>gini</td>\n",
       "      <td>9</td>\n",
       "      <td>0.039015</td>\n",
       "    </tr>\n",
       "    <tr>\n",
       "      <th>34</th>\n",
       "      <td>6205483</td>\n",
       "      <td>100</td>\n",
       "      <td>NaN</td>\n",
       "      <td>entropy</td>\n",
       "      <td>9</td>\n",
       "      <td>0.038800</td>\n",
       "    </tr>\n",
       "    <tr>\n",
       "      <th>35</th>\n",
       "      <td>6205483</td>\n",
       "      <td>100</td>\n",
       "      <td>NaN</td>\n",
       "      <td>log_loss</td>\n",
       "      <td>9</td>\n",
       "      <td>0.038848</td>\n",
       "    </tr>\n",
       "  </tbody>\n",
       "</table>\n",
       "</div>"
      ],
      "text/plain": [
       "    max_samples  n_estimators  max_depth criterion  verbose  LL_RF_up\n",
       "0       6205483             1       12.0      gini        9  0.096623\n",
       "1       6205483             1       12.0   entropy        9  0.096644\n",
       "2       6205483             1       12.0  log_loss        9  0.095180\n",
       "3       6205483             1       50.0      gini        9  0.975630\n",
       "4       6205483             1       50.0   entropy        9  0.948917\n",
       "5       6205483             1       50.0  log_loss        9  0.944667\n",
       "6       6205483             1        NaN      gini        9  0.964633\n",
       "7       6205483             1        NaN   entropy        9  0.946061\n",
       "8       6205483             1        NaN  log_loss        9  0.954111\n",
       "9       6205483            30       12.0      gini        9  0.087002\n",
       "10      6205483            30       12.0   entropy        9  0.087440\n",
       "11      6205483            30       12.0  log_loss        9  0.087730\n",
       "12      6205483            30       50.0      gini        9  0.041004\n",
       "13      6205483            30       50.0   entropy        9  0.040899\n",
       "14      6205483            30       50.0  log_loss        9  0.040974\n",
       "15      6205483            30        NaN      gini        9  0.041300\n",
       "16      6205483            30        NaN   entropy        9  0.040941\n",
       "17      6205483            30        NaN  log_loss        9  0.041086\n",
       "18      6205483            60       12.0      gini        9  0.086854\n",
       "19      6205483            60       12.0   entropy        9  0.087448\n",
       "20      6205483            60       12.0  log_loss        9  0.087637\n",
       "21      6205483            60       50.0      gini        9  0.039333\n",
       "22      6205483            60       50.0   entropy        9  0.039236\n",
       "23      6205483            60       50.0  log_loss        9  0.039216\n",
       "24      6205483            60        NaN      gini        9  0.039431\n",
       "25      6205483            60        NaN   entropy        9  0.039248\n",
       "26      6205483            60        NaN  log_loss        9  0.039190\n",
       "27      6205483           100       12.0      gini        9  0.086947\n",
       "28      6205483           100       12.0   entropy        9  0.087421\n",
       "29      6205483           100       12.0  log_loss        9  0.087466\n",
       "30      6205483           100       50.0      gini        9  0.039043\n",
       "31      6205483           100       50.0   entropy        9  0.038850\n",
       "32      6205483           100       50.0  log_loss        9  0.038832\n",
       "33      6205483           100        NaN      gini        9  0.039015\n",
       "34      6205483           100        NaN   entropy        9  0.038800\n",
       "35      6205483           100        NaN  log_loss        9  0.038848"
      ]
     },
     "execution_count": 3,
     "metadata": {},
     "output_type": "execute_result"
    }
   ],
   "source": [
    "ds"
   ]
  },
  {
   "cell_type": "code",
   "execution_count": 6,
   "metadata": {},
   "outputs": [
    {
     "data": {
      "application/vnd.plotly.v1+json": {
       "config": {
        "plotlyServerURL": "https://plot.ly"
       },
       "data": [
        {
         "dimensions": [
          {
           "label": "n_estimators",
           "values": {
            "bdata": "AQEBAQEBAQEBHh4eHh4eHh4ePDw8PDw8PDw8ZGRkZGRkZGRk",
            "dtype": "i1"
           }
          },
          {
           "label": "max_depth",
           "values": {
            "bdata": "AAAAAAAAKEAAAAAAAAAoQAAAAAAAAChAAAAAAAAASUAAAAAAAABJQAAAAAAAAElAAAAAAAAA+H8AAAAAAAD4fwAAAAAAAPh/AAAAAAAAKEAAAAAAAAAoQAAAAAAAAChAAAAAAAAASUAAAAAAAABJQAAAAAAAAElAAAAAAAAA+H8AAAAAAAD4fwAAAAAAAPh/AAAAAAAAKEAAAAAAAAAoQAAAAAAAAChAAAAAAAAASUAAAAAAAABJQAAAAAAAAElAAAAAAAAA+H8AAAAAAAD4fwAAAAAAAPh/AAAAAAAAKEAAAAAAAAAoQAAAAAAAAChAAAAAAAAASUAAAAAAAABJQAAAAAAAAElAAAAAAAAA+H8AAAAAAAD4fwAAAAAAAPh/",
            "dtype": "f8"
           }
          }
         ],
         "domain": {
          "x": [
           0,
           1
          ],
          "y": [
           0,
           1
          ]
         },
         "line": {
          "color": {
           "bdata": "lBT1Mk28uD9gha9VrL24P0ZMs2+6Xbg/bSgolVw47z+MuzD5h13uPwUWocG2Ou4/hdQlF0Xe7j88ZxWYIkbuP3suMRUUiO4/TPqnvcNFtj/N0oK1b2K2P/bYPnJ0dbY/FocJHnX+pD9HnMHkrPCkP3sXtkB8+qQ/uggZS08lpT+ie6/JQPakP9M85WYuCaU/00LnOAk8tj/sGUFbAWO2P7TqE7Fkb7Y/o9ZvunUjpD8NTBgOvhakPzQFXEEiFKQ/7+cSx1kwpD/qfQfhShikPw6tymC4EKQ/aY05pyxCtj/zrWIWNmG2P6rc5JAmZLY/G3mFfXL9oz8c00H8F+SjP8fIwErM4aM/y3u8jr/5oz+sp9ZglN2jP+hV34PZ46M/",
           "dtype": "f8"
          },
          "coloraxis": "coloraxis"
         },
         "name": "",
         "type": "parcoords"
        }
       ],
       "layout": {
        "coloraxis": {
         "colorbar": {
          "title": {
           "text": "LL_RF_up"
          }
         },
         "colorscale": [
          [
           0,
           "rgb(0, 147, 146)"
          ],
          [
           0.16666666666666666,
           "rgb(114, 170, 161)"
          ],
          [
           0.3333333333333333,
           "rgb(177, 199, 179)"
          ],
          [
           0.5,
           "rgb(241, 234, 200)"
          ],
          [
           0.6666666666666666,
           "rgb(229, 185, 173)"
          ],
          [
           0.8333333333333334,
           "rgb(217, 137, 148)"
          ],
          [
           1,
           "rgb(208, 88, 126)"
          ]
         ]
        },
        "legend": {
         "tracegroupgap": 0
        },
        "margin": {
         "t": 60
        },
        "template": {
         "data": {
          "bar": [
           {
            "error_x": {
             "color": "#2a3f5f"
            },
            "error_y": {
             "color": "#2a3f5f"
            },
            "marker": {
             "line": {
              "color": "#E5ECF6",
              "width": 0.5
             },
             "pattern": {
              "fillmode": "overlay",
              "size": 10,
              "solidity": 0.2
             }
            },
            "type": "bar"
           }
          ],
          "barpolar": [
           {
            "marker": {
             "line": {
              "color": "#E5ECF6",
              "width": 0.5
             },
             "pattern": {
              "fillmode": "overlay",
              "size": 10,
              "solidity": 0.2
             }
            },
            "type": "barpolar"
           }
          ],
          "carpet": [
           {
            "aaxis": {
             "endlinecolor": "#2a3f5f",
             "gridcolor": "white",
             "linecolor": "white",
             "minorgridcolor": "white",
             "startlinecolor": "#2a3f5f"
            },
            "baxis": {
             "endlinecolor": "#2a3f5f",
             "gridcolor": "white",
             "linecolor": "white",
             "minorgridcolor": "white",
             "startlinecolor": "#2a3f5f"
            },
            "type": "carpet"
           }
          ],
          "choropleth": [
           {
            "colorbar": {
             "outlinewidth": 0,
             "ticks": ""
            },
            "type": "choropleth"
           }
          ],
          "contour": [
           {
            "colorbar": {
             "outlinewidth": 0,
             "ticks": ""
            },
            "colorscale": [
             [
              0,
              "#0d0887"
             ],
             [
              0.1111111111111111,
              "#46039f"
             ],
             [
              0.2222222222222222,
              "#7201a8"
             ],
             [
              0.3333333333333333,
              "#9c179e"
             ],
             [
              0.4444444444444444,
              "#bd3786"
             ],
             [
              0.5555555555555556,
              "#d8576b"
             ],
             [
              0.6666666666666666,
              "#ed7953"
             ],
             [
              0.7777777777777778,
              "#fb9f3a"
             ],
             [
              0.8888888888888888,
              "#fdca26"
             ],
             [
              1,
              "#f0f921"
             ]
            ],
            "type": "contour"
           }
          ],
          "contourcarpet": [
           {
            "colorbar": {
             "outlinewidth": 0,
             "ticks": ""
            },
            "type": "contourcarpet"
           }
          ],
          "heatmap": [
           {
            "colorbar": {
             "outlinewidth": 0,
             "ticks": ""
            },
            "colorscale": [
             [
              0,
              "#0d0887"
             ],
             [
              0.1111111111111111,
              "#46039f"
             ],
             [
              0.2222222222222222,
              "#7201a8"
             ],
             [
              0.3333333333333333,
              "#9c179e"
             ],
             [
              0.4444444444444444,
              "#bd3786"
             ],
             [
              0.5555555555555556,
              "#d8576b"
             ],
             [
              0.6666666666666666,
              "#ed7953"
             ],
             [
              0.7777777777777778,
              "#fb9f3a"
             ],
             [
              0.8888888888888888,
              "#fdca26"
             ],
             [
              1,
              "#f0f921"
             ]
            ],
            "type": "heatmap"
           }
          ],
          "histogram": [
           {
            "marker": {
             "pattern": {
              "fillmode": "overlay",
              "size": 10,
              "solidity": 0.2
             }
            },
            "type": "histogram"
           }
          ],
          "histogram2d": [
           {
            "colorbar": {
             "outlinewidth": 0,
             "ticks": ""
            },
            "colorscale": [
             [
              0,
              "#0d0887"
             ],
             [
              0.1111111111111111,
              "#46039f"
             ],
             [
              0.2222222222222222,
              "#7201a8"
             ],
             [
              0.3333333333333333,
              "#9c179e"
             ],
             [
              0.4444444444444444,
              "#bd3786"
             ],
             [
              0.5555555555555556,
              "#d8576b"
             ],
             [
              0.6666666666666666,
              "#ed7953"
             ],
             [
              0.7777777777777778,
              "#fb9f3a"
             ],
             [
              0.8888888888888888,
              "#fdca26"
             ],
             [
              1,
              "#f0f921"
             ]
            ],
            "type": "histogram2d"
           }
          ],
          "histogram2dcontour": [
           {
            "colorbar": {
             "outlinewidth": 0,
             "ticks": ""
            },
            "colorscale": [
             [
              0,
              "#0d0887"
             ],
             [
              0.1111111111111111,
              "#46039f"
             ],
             [
              0.2222222222222222,
              "#7201a8"
             ],
             [
              0.3333333333333333,
              "#9c179e"
             ],
             [
              0.4444444444444444,
              "#bd3786"
             ],
             [
              0.5555555555555556,
              "#d8576b"
             ],
             [
              0.6666666666666666,
              "#ed7953"
             ],
             [
              0.7777777777777778,
              "#fb9f3a"
             ],
             [
              0.8888888888888888,
              "#fdca26"
             ],
             [
              1,
              "#f0f921"
             ]
            ],
            "type": "histogram2dcontour"
           }
          ],
          "mesh3d": [
           {
            "colorbar": {
             "outlinewidth": 0,
             "ticks": ""
            },
            "type": "mesh3d"
           }
          ],
          "parcoords": [
           {
            "line": {
             "colorbar": {
              "outlinewidth": 0,
              "ticks": ""
             }
            },
            "type": "parcoords"
           }
          ],
          "pie": [
           {
            "automargin": true,
            "type": "pie"
           }
          ],
          "scatter": [
           {
            "fillpattern": {
             "fillmode": "overlay",
             "size": 10,
             "solidity": 0.2
            },
            "type": "scatter"
           }
          ],
          "scatter3d": [
           {
            "line": {
             "colorbar": {
              "outlinewidth": 0,
              "ticks": ""
             }
            },
            "marker": {
             "colorbar": {
              "outlinewidth": 0,
              "ticks": ""
             }
            },
            "type": "scatter3d"
           }
          ],
          "scattercarpet": [
           {
            "marker": {
             "colorbar": {
              "outlinewidth": 0,
              "ticks": ""
             }
            },
            "type": "scattercarpet"
           }
          ],
          "scattergeo": [
           {
            "marker": {
             "colorbar": {
              "outlinewidth": 0,
              "ticks": ""
             }
            },
            "type": "scattergeo"
           }
          ],
          "scattergl": [
           {
            "marker": {
             "colorbar": {
              "outlinewidth": 0,
              "ticks": ""
             }
            },
            "type": "scattergl"
           }
          ],
          "scattermap": [
           {
            "marker": {
             "colorbar": {
              "outlinewidth": 0,
              "ticks": ""
             }
            },
            "type": "scattermap"
           }
          ],
          "scattermapbox": [
           {
            "marker": {
             "colorbar": {
              "outlinewidth": 0,
              "ticks": ""
             }
            },
            "type": "scattermapbox"
           }
          ],
          "scatterpolar": [
           {
            "marker": {
             "colorbar": {
              "outlinewidth": 0,
              "ticks": ""
             }
            },
            "type": "scatterpolar"
           }
          ],
          "scatterpolargl": [
           {
            "marker": {
             "colorbar": {
              "outlinewidth": 0,
              "ticks": ""
             }
            },
            "type": "scatterpolargl"
           }
          ],
          "scatterternary": [
           {
            "marker": {
             "colorbar": {
              "outlinewidth": 0,
              "ticks": ""
             }
            },
            "type": "scatterternary"
           }
          ],
          "surface": [
           {
            "colorbar": {
             "outlinewidth": 0,
             "ticks": ""
            },
            "colorscale": [
             [
              0,
              "#0d0887"
             ],
             [
              0.1111111111111111,
              "#46039f"
             ],
             [
              0.2222222222222222,
              "#7201a8"
             ],
             [
              0.3333333333333333,
              "#9c179e"
             ],
             [
              0.4444444444444444,
              "#bd3786"
             ],
             [
              0.5555555555555556,
              "#d8576b"
             ],
             [
              0.6666666666666666,
              "#ed7953"
             ],
             [
              0.7777777777777778,
              "#fb9f3a"
             ],
             [
              0.8888888888888888,
              "#fdca26"
             ],
             [
              1,
              "#f0f921"
             ]
            ],
            "type": "surface"
           }
          ],
          "table": [
           {
            "cells": {
             "fill": {
              "color": "#EBF0F8"
             },
             "line": {
              "color": "white"
             }
            },
            "header": {
             "fill": {
              "color": "#C8D4E3"
             },
             "line": {
              "color": "white"
             }
            },
            "type": "table"
           }
          ]
         },
         "layout": {
          "annotationdefaults": {
           "arrowcolor": "#2a3f5f",
           "arrowhead": 0,
           "arrowwidth": 1
          },
          "autotypenumbers": "strict",
          "coloraxis": {
           "colorbar": {
            "outlinewidth": 0,
            "ticks": ""
           }
          },
          "colorscale": {
           "diverging": [
            [
             0,
             "#8e0152"
            ],
            [
             0.1,
             "#c51b7d"
            ],
            [
             0.2,
             "#de77ae"
            ],
            [
             0.3,
             "#f1b6da"
            ],
            [
             0.4,
             "#fde0ef"
            ],
            [
             0.5,
             "#f7f7f7"
            ],
            [
             0.6,
             "#e6f5d0"
            ],
            [
             0.7,
             "#b8e186"
            ],
            [
             0.8,
             "#7fbc41"
            ],
            [
             0.9,
             "#4d9221"
            ],
            [
             1,
             "#276419"
            ]
           ],
           "sequential": [
            [
             0,
             "#0d0887"
            ],
            [
             0.1111111111111111,
             "#46039f"
            ],
            [
             0.2222222222222222,
             "#7201a8"
            ],
            [
             0.3333333333333333,
             "#9c179e"
            ],
            [
             0.4444444444444444,
             "#bd3786"
            ],
            [
             0.5555555555555556,
             "#d8576b"
            ],
            [
             0.6666666666666666,
             "#ed7953"
            ],
            [
             0.7777777777777778,
             "#fb9f3a"
            ],
            [
             0.8888888888888888,
             "#fdca26"
            ],
            [
             1,
             "#f0f921"
            ]
           ],
           "sequentialminus": [
            [
             0,
             "#0d0887"
            ],
            [
             0.1111111111111111,
             "#46039f"
            ],
            [
             0.2222222222222222,
             "#7201a8"
            ],
            [
             0.3333333333333333,
             "#9c179e"
            ],
            [
             0.4444444444444444,
             "#bd3786"
            ],
            [
             0.5555555555555556,
             "#d8576b"
            ],
            [
             0.6666666666666666,
             "#ed7953"
            ],
            [
             0.7777777777777778,
             "#fb9f3a"
            ],
            [
             0.8888888888888888,
             "#fdca26"
            ],
            [
             1,
             "#f0f921"
            ]
           ]
          },
          "colorway": [
           "#636efa",
           "#EF553B",
           "#00cc96",
           "#ab63fa",
           "#FFA15A",
           "#19d3f3",
           "#FF6692",
           "#B6E880",
           "#FF97FF",
           "#FECB52"
          ],
          "font": {
           "color": "#2a3f5f"
          },
          "geo": {
           "bgcolor": "white",
           "lakecolor": "white",
           "landcolor": "#E5ECF6",
           "showlakes": true,
           "showland": true,
           "subunitcolor": "white"
          },
          "hoverlabel": {
           "align": "left"
          },
          "hovermode": "closest",
          "mapbox": {
           "style": "light"
          },
          "paper_bgcolor": "white",
          "plot_bgcolor": "#E5ECF6",
          "polar": {
           "angularaxis": {
            "gridcolor": "white",
            "linecolor": "white",
            "ticks": ""
           },
           "bgcolor": "#E5ECF6",
           "radialaxis": {
            "gridcolor": "white",
            "linecolor": "white",
            "ticks": ""
           }
          },
          "scene": {
           "xaxis": {
            "backgroundcolor": "#E5ECF6",
            "gridcolor": "white",
            "gridwidth": 2,
            "linecolor": "white",
            "showbackground": true,
            "ticks": "",
            "zerolinecolor": "white"
           },
           "yaxis": {
            "backgroundcolor": "#E5ECF6",
            "gridcolor": "white",
            "gridwidth": 2,
            "linecolor": "white",
            "showbackground": true,
            "ticks": "",
            "zerolinecolor": "white"
           },
           "zaxis": {
            "backgroundcolor": "#E5ECF6",
            "gridcolor": "white",
            "gridwidth": 2,
            "linecolor": "white",
            "showbackground": true,
            "ticks": "",
            "zerolinecolor": "white"
           }
          },
          "shapedefaults": {
           "line": {
            "color": "#2a3f5f"
           }
          },
          "ternary": {
           "aaxis": {
            "gridcolor": "white",
            "linecolor": "white",
            "ticks": ""
           },
           "baxis": {
            "gridcolor": "white",
            "linecolor": "white",
            "ticks": ""
           },
           "bgcolor": "#E5ECF6",
           "caxis": {
            "gridcolor": "white",
            "linecolor": "white",
            "ticks": ""
           }
          },
          "title": {
           "x": 0.05
          },
          "xaxis": {
           "automargin": true,
           "gridcolor": "white",
           "linecolor": "white",
           "ticks": "",
           "title": {
            "standoff": 15
           },
           "zerolinecolor": "white",
           "zerolinewidth": 2
          },
          "yaxis": {
           "automargin": true,
           "gridcolor": "white",
           "linecolor": "white",
           "ticks": "",
           "title": {
            "standoff": 15
           },
           "zerolinecolor": "white",
           "zerolinewidth": 2
          }
         }
        }
       }
      }
     },
     "metadata": {},
     "output_type": "display_data"
    }
   ],
   "source": [
    "fig = px.parallel_coordinates(ds, color='LL_RF_up',\n",
    "                                dimensions=['n_estimators','max_depth', 'criterion'],\n",
    "                                color_continuous_scale=px.colors.diverging.Tealrose)\n",
    "fig.show()"
   ]
  },
  {
   "cell_type": "code",
   "execution_count": 32,
   "metadata": {},
   "outputs": [
    {
     "name": "stderr",
     "output_type": "stream",
     "text": [
      "/var/folders/dd/vs2td51d7b366p_g2_844p100000gq/T/ipykernel_46273/1811623317.py:2: FutureWarning: Downcasting behavior in `replace` is deprecated and will be removed in a future version. To retain the old behavior, explicitly call `result.infer_objects(copy=False)`. To opt-in to the future behavior, set `pd.set_option('future.no_silent_downcasting', True)`\n",
      "  df = ds.replace(to_replace=['gini','entropy','log_loss',nan],value=[30,60,90,100])\n"
     ]
    }
   ],
   "source": [
    "nan = ds['max_depth'][7] \n",
    "df = ds.replace(to_replace=['gini','entropy','log_loss',nan],value=[30,60,90,100])\n"
   ]
  },
  {
   "cell_type": "code",
   "execution_count": 126,
   "metadata": {},
   "outputs": [],
   "source": [
    "def parallel_coordinates(frame, class_column, cols=None, ax=None, color=None,\n",
    "                     use_columns=False, xticks=None, colormap=None,\n",
    "                     **kwds):\n",
    "\n",
    "    n = len(frame)\n",
    "    class_col = frame[class_column]\n",
    "    class_min = np.amin(class_col)\n",
    "    class_max = np.amax(class_col)\n",
    "\n",
    "    if cols is None:\n",
    "        df = frame.drop(class_column, axis=1)\n",
    "    else:\n",
    "        df = frame[cols]\n",
    "\n",
    "    used_legends = set([])\n",
    "\n",
    "    ncols = len(df.columns)\n",
    "\n",
    "    # determine values to use for xticks\n",
    "    if use_columns is True:\n",
    "        if not np.all(np.isreal(list(df.columns))):\n",
    "            raise ValueError('Columns must be numeric to be used as xticks')\n",
    "        x = df.columns\n",
    "    elif xticks is not None:\n",
    "        if not np.all(np.isreal(xticks)):\n",
    "            raise ValueError('xticks specified must be numeric')\n",
    "        elif len(xticks) != ncols:\n",
    "            raise ValueError('Length of xticks must match number of columns')\n",
    "        x = xticks\n",
    "    else:\n",
    "        x = range(ncols)\n",
    "\n",
    "    fig = plt.figure()\n",
    "    ax = plt.gca()\n",
    "\n",
    "    cmap = mpl.cm.cool # viridis, magma\n",
    "    bounds = [0.03,0.04,0.05,0.06,0.07,0.08,0.09]\n",
    "    norm = mpl.colors.BoundaryNorm(bounds,cmap.N, extend='both')\n",
    "    scalar_map = mpl.cm.ScalarMappable(norm=norm, cmap=cmap)\n",
    "\n",
    "    for i in range(n):\n",
    "        y = df.iloc[i].values\n",
    "        kls = class_col.iat[i]\n",
    "        color = scalar_map.to_rgba(class_col[i])\n",
    "        ax.plot(x, y, color=color, alpha=0.3, **kwds)\n",
    "        # ax.set_ylim([min(y),max(y)])\n",
    "\n",
    "    for i in x:\n",
    "        ax.axvline(i, linewidth=1, color='black')\n",
    "\n",
    "    ax1 = ax.twinx()\n",
    "    ax1.set_yticks([0.315,0.587,0.864])\n",
    "    ax1.set_yticklabels(['gini','entropy','log_loss'])\n",
    "\n",
    "    ax.set_xticks(x)\n",
    "    ax.set_xticklabels(df.columns)\n",
    "    ax.set_xlim(x[0], x[-1])\n",
    "    ax.legend(loc='upper right')\n",
    "    ax.set_title('Parallel Coordinate Plot of Hyperparameters')\n",
    "    ax.grid()\n",
    "\n",
    "    fig.colorbar(mpl.cm.ScalarMappable(norm=norm, cmap=cmap),\n",
    "                    ax=ax)\n",
    "\n",
    "    return fig"
   ]
  },
  {
   "cell_type": "code",
   "execution_count": 127,
   "metadata": {},
   "outputs": [
    {
     "name": "stderr",
     "output_type": "stream",
     "text": [
      "No artists with labels found to put in legend.  Note that artists whose label start with an underscore are ignored when legend() is called with no argument.\n"
     ]
    },
    {
     "data": {
      "image/png": "[encoded data removed]",
      "text/plain": [
       "<Figure size 640x480 with 3 Axes>"
      ]
     },
     "execution_count": 127,
     "metadata": {},
     "output_type": "execute_result"
    },
    {
     "data": {
      "image/png": "[encoded data removed]",
      "text/plain": [
       "<Figure size 640x480 with 3 Axes>"
      ]
     },
     "metadata": {},
     "output_type": "display_data"
    }
   ],
   "source": [
    "df = df[['n_estimators','max_depth','criterion','LL_RF_up']]\n",
    "parallel_coordinates(df, 'LL_RF_up')\n"
   ]
  },
  {
   "cell_type": "code",
   "execution_count": null,
   "metadata": {},
   "outputs": [],
   "source": []
  }
 ],
 "metadata": {
  "kernelspec": {
   "display_name": "lightningwrf",
   "language": "python",
   "name": "python3"
  },
  "language_info": {
   "codemirror_mode": {
    "name": "ipython",
    "version": 3
   },
   "file_extension": ".py",
   "mimetype": "text/x-python",
   "name": "python",
   "nbconvert_exporter": "python",
   "pygments_lexer": "ipython3",
   "version": "3.11.11"
  }
 },
 "nbformat": 4,
 "nbformat_minor": 2
}
